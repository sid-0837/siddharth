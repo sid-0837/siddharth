{
  "nbformat": 4,
  "nbformat_minor": 0,
  "metadata": {
    "colab": {
      "provenance": [],
      "authorship_tag": "ABX9TyMkRi1zKRvoxW5L3I7E4W9P",
      "include_colab_link": true
    },
    "kernelspec": {
      "name": "python3",
      "display_name": "Python 3"
    },
    "language_info": {
      "name": "python"
    }
  },
  "cells": [
    {
      "cell_type": "markdown",
      "metadata": {
        "id": "view-in-github",
        "colab_type": "text"
      },
      "source": [
        "<a href=\"https://colab.research.google.com/github/sid-0837/siddharth/blob/main/basics_of_numpy.ipynb\" target=\"_parent\"><img src=\"https://colab.research.google.com/assets/colab-badge.svg\" alt=\"Open In Colab\"/></a>"
      ]
    },
    {
      "cell_type": "code",
      "execution_count": 1,
      "metadata": {
        "colab": {
          "base_uri": "https://localhost:8080/"
        },
        "id": "9jm6MquHvgDu",
        "outputId": "4157ac29-ed5c-4818-bcf0-5218d02534c4"
      },
      "outputs": [
        {
          "output_type": "stream",
          "name": "stdout",
          "text": [
            "1D Array:\n",
            "Shape: (5,)\n",
            "Size: 5\n",
            "Dimension: 1\n",
            "Length: 5\n",
            "\n",
            "2D Array:\n",
            "Shape: (3, 3)\n",
            "Size: 9\n",
            "Dimension: 2\n",
            "Length: 3\n",
            "\n",
            "3D Array:\n",
            "Shape: (2, 2, 3)\n",
            "Size: 12\n",
            "Dimension: 3\n",
            "Length: 2\n",
            "\n",
            "Examples of array creation functions:\n",
            "np.arange(5): [0 1 2 3 4]\n",
            "np.random.randint(1, 10, size=(2, 3)):\n",
            "[[2 9 6]\n",
            " [3 2 7]]\n",
            "np.random.rand(2, 3):\n",
            "[[0.57349731 0.42243189 0.16929699]\n",
            " [0.46429336 0.3327906  0.35767344]]\n",
            "np.linspace(0, 10, 5): [ 0.   2.5  5.   7.5 10. ]\n",
            "np.ones((2, 3)):\n",
            "[[1. 1. 1.]\n",
            " [1. 1. 1.]]\n",
            "np.zeros((2, 3)):\n",
            "[[0. 0. 0.]\n",
            " [0. 0. 0.]]\n",
            "np.diag([1, 2, 3]):\n",
            "[[1 0 0]\n",
            " [0 2 0]\n",
            " [0 0 3]]\n",
            "\n",
            "Examples of aggregation functions:\n",
            "Sum of arr_2d: 45\n",
            "Min of arr_1d: 1\n",
            "Max of arr_3d: 12\n",
            "Mean of arr_2d: 5.0\n"
          ]
        }
      ],
      "source": [
        "import numpy as np\n",
        "\n",
        "arr_1d = np.array([1, 2, 3, 4, 5])\n",
        "arr_2d = np.array([[1, 2, 3],\n",
        "                   [4, 5, 6],\n",
        "                   [7, 8, 9]])\n",
        "arr_3d = np.array([[[1, 2, 3],\n",
        "                    [4, 5, 6]],\n",
        "                   [[7, 8, 9],\n",
        "                    [10, 11, 12]]])\n",
        "\n",
        "print(\"1D Array:\")\n",
        "print(\"Shape:\", arr_1d.shape)\n",
        "print(\"Size:\", arr_1d.size)\n",
        "print(\"Dimension:\", arr_1d.ndim)\n",
        "print(\"Length:\", len(arr_1d))\n",
        "print()\n",
        "\n",
        "print(\"2D Array:\")\n",
        "print(\"Shape:\", arr_2d.shape)\n",
        "print(\"Size:\", arr_2d.size)\n",
        "print(\"Dimension:\", arr_2d.ndim)\n",
        "print(\"Length:\", len(arr_2d))\n",
        "print()\n",
        "\n",
        "print(\"3D Array:\")\n",
        "print(\"Shape:\", arr_3d.shape)\n",
        "print(\"Size:\", arr_3d.size)\n",
        "print(\"Dimension:\", arr_3d.ndim)\n",
        "print(\"Length:\", len(arr_3d))\n",
        "print()\n",
        "\n",
        "print(\"Examples of array creation functions:\")\n",
        "print(\"np.arange(5):\", np.arange(5))\n",
        "print(\"np.random.randint(1, 10, size=(2, 3)):\")\n",
        "print(np.random.randint(1, 10, size=(2, 3)))\n",
        "print(\"np.random.rand(2, 3):\")\n",
        "print(np.random.rand(2, 3))\n",
        "print(\"np.linspace(0, 10, 5):\", np.linspace(0, 10, 5))\n",
        "print(\"np.ones((2, 3)):\")\n",
        "print(np.ones((2, 3)))\n",
        "print(\"np.zeros((2, 3)):\")\n",
        "print(np.zeros((2, 3)))\n",
        "print(\"np.diag([1, 2, 3]):\")\n",
        "print(np.diag([1, 2, 3]))\n",
        "\n",
        "print(\"\\nExamples of aggregation functions:\")\n",
        "print(\"Sum of arr_2d:\", np.sum(arr_2d))\n",
        "print(\"Min of arr_1d:\", np.min(arr_1d))\n",
        "print(\"Max of arr_3d:\", np.max(arr_3d))\n",
        "print(\"Mean of arr_2d:\", np.mean(arr_2d))\n"
      ]
    }
  ]
}