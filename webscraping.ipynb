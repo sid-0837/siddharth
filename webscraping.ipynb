{
  "nbformat": 4,
  "nbformat_minor": 0,
  "metadata": {
    "colab": {
      "provenance": [],
      "authorship_tag": "ABX9TyOYc+9UiI+vRfwNJ7aQAZb1",
      "include_colab_link": true
    },
    "kernelspec": {
      "name": "python3",
      "display_name": "Python 3"
    },
    "language_info": {
      "name": "python"
    }
  },
  "cells": [
    {
      "cell_type": "markdown",
      "metadata": {
        "id": "view-in-github",
        "colab_type": "text"
      },
      "source": [
        "<a href=\"https://colab.research.google.com/github/sid-0837/siddharth/blob/main/webscraping.ipynb\" target=\"_parent\"><img src=\"https://colab.research.google.com/assets/colab-badge.svg\" alt=\"Open In Colab\"/></a>"
      ]
    },
    {
      "cell_type": "code",
      "execution_count": 5,
      "metadata": {
        "colab": {
          "base_uri": "https://localhost:8080/"
        },
        "id": "u54QxqIVdMKr",
        "outputId": "9839997e-05dc-40d6-faaa-0c56a959bba3"
      },
      "outputs": [
        {
          "output_type": "stream",
          "name": "stdout",
          "text": [
            "<!doctype html>\n",
            "<html>\n",
            "<head>\n",
            "    <title>Site Maintenance</title>\n",
            "    <style type=\"text/css\">body { text-align: center; padding: 150px; }h1 { font-size: 40px; }body { font: 16px Helvetica, sans-serif; color: #333; }#error { display: block; text-align: left; width: 650px; margin: 0 auto; }</style>\n",
            "</head>\n",
            "<body>\n",
            "    <div id=\"error\">\n",
            "    <h1>Oops! Something went wrong</h1>\n",
            "    <div>\n",
            "        <hr>\n",
            "        <p>Please contact your administrator</p>\n",
            "    </div>\n",
            "    </div>\n",
            "</body>\n",
            "</html>\n"
          ]
        }
      ],
      "source": [
        "import requests\n",
        "link=\"https://www.myntra.com/\"\n",
        "link_text=requests.get(link).text\n",
        "print(link_text)\n"
      ]
    },
    {
      "cell_type": "code",
      "source": [
        "from bs4 import BeautifulSoup\n",
        "soup=BeautifulSoup(link_text,'lxml')\n",
        "print(soup)\n",
        "print(soup.prettify())\n",
        "print(soup.title)\n",
        "print(soup.title.string)\n",
        "soup.a\n",
        "soup.find_all('a')\n",
        "all_table=soup.find_all('table')\n",
        "print(all_table)"
      ],
      "metadata": {
        "colab": {
          "base_uri": "https://localhost:8080/"
        },
        "id": "1fLYze4Ne9An",
        "outputId": "52749fde-97dd-4ffd-92ea-b9510c8ff423"
      },
      "execution_count": 6,
      "outputs": [
        {
          "output_type": "stream",
          "name": "stdout",
          "text": [
            "<!DOCTYPE html>\n",
            "<html>\n",
            "<head>\n",
            "<title>Site Maintenance</title>\n",
            "<style type=\"text/css\">body { text-align: center; padding: 150px; }h1 { font-size: 40px; }body { font: 16px Helvetica, sans-serif; color: #333; }#error { display: block; text-align: left; width: 650px; margin: 0 auto; }</style>\n",
            "</head>\n",
            "<body>\n",
            "<div id=\"error\">\n",
            "<h1>Oops! Something went wrong</h1>\n",
            "<div>\n",
            "<hr/>\n",
            "<p>Please contact your administrator</p>\n",
            "</div>\n",
            "</div>\n",
            "</body>\n",
            "</html>\n",
            "<!DOCTYPE html>\n",
            "<html>\n",
            " <head>\n",
            "  <title>\n",
            "   Site Maintenance\n",
            "  </title>\n",
            "  <style type=\"text/css\">\n",
            "   body { text-align: center; padding: 150px; }h1 { font-size: 40px; }body { font: 16px Helvetica, sans-serif; color: #333; }#error { display: block; text-align: left; width: 650px; margin: 0 auto; }\n",
            "  </style>\n",
            " </head>\n",
            " <body>\n",
            "  <div id=\"error\">\n",
            "   <h1>\n",
            "    Oops! Something went wrong\n",
            "   </h1>\n",
            "   <div>\n",
            "    <hr/>\n",
            "    <p>\n",
            "     Please contact your administrator\n",
            "    </p>\n",
            "   </div>\n",
            "  </div>\n",
            " </body>\n",
            "</html>\n",
            "\n",
            "<title>Site Maintenance</title>\n",
            "Site Maintenance\n",
            "[]\n"
          ]
        }
      ]
    }
  ]
}